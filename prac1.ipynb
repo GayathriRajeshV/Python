{
 "cells": [
  {
   "cell_type": "code",
   "execution_count": null,
   "metadata": {},
   "outputs": [],
   "source": [
    "def isPalindrome(s):\n",
    "    return s == s[::-1]\n",
    "s = input(\"Enter a string:\")\n",
    "ans = isPalindrome(s)\n",
    "if ans:\n",
    "    print(\"Yes,string is a palindrome\")\n",
    "else:\n",
    "    print(\"Nooo\")\n",
    "\n",
    "def number(num):\n",
    "    num=int(input(\"Enter a number:\"))\n",
    "    temp=num\n",
    "    rev=0\n",
    "    while(num>0):\n",
    "        digit=num%10\n",
    "    rev=rev*10+digit\n",
    "    num=num//10\n",
    "    if(temp==rev):\n",
    "        print(\"Yes\")\n",
    "    else:\n",
    "        print(\"No\")\n"
   ]
  }
 ],
 "metadata": {
  "kernelspec": {
   "display_name": "Python 3.10.6 64-bit",
   "language": "python",
   "name": "python3"
  },
  "language_info": {
   "name": "python",
   "version": "3.10.6"
  },
  "orig_nbformat": 4,
  "vscode": {
   "interpreter": {
    "hash": "7e9947da83203617e284b18c358ff0d26601397355904eeae93dae46ec17c35b"
   }
  }
 },
 "nbformat": 4,
 "nbformat_minor": 2
}
